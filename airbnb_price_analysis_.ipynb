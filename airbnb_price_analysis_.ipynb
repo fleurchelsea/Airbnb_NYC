{
 "cells": [
  {
   "cell_type": "code",
   "execution_count": null,
   "id": "bc253152",
   "metadata": {},
   "outputs": [],
   "source": [
    "# airbnb_price_analysis.py\n",
    "# Analysis of NYC Airbnb data to explore pricing trends\n",
    "\n",
    "import pandas as pd\n",
    "import numpy as np\n",
    "import matplotlib.pyplot as plt\n",
    "import seaborn as sns\n",
    "\n",
    "# Load dataset\n",
    "df = pd.read_csv(\"AB_NYC_2019.csv\")  # Ensure this CSV is in the same directory\n",
    "\n",
    "# Clean data\n",
    "df.dropna(subset=['reviews_per_month'], inplace=True)\n",
    "df = df[df['price'] > 0]  # Remove listings with zero price\n",
    "\n",
    "# Optional: remove outliers for better visualization\n",
    "df = df[df['price'] < 1000]\n",
    "%matplotlib inline"
   ]
  },
  {
   "cell_type": "code",
   "execution_count": null,
   "id": "79159e04",
   "metadata": {},
   "outputs": [],
   "source": [
    "# Section 1: Distribution by Neighborhood Group\n",
    "plt.figure(figsize=(8, 6))\n",
    "sns.countplot(data=df, x='neighbourhood_group', order=df['neighbourhood_group'].value_counts().index, palette='Set2')\n",
    "plt.title('Number of Listings by NYC Neighborhood Group')\n",
    "plt.xlabel('Neighbourhood Group')\n",
    "plt.ylabel('Number of Listings')\n",
    "plt.tight_layout()\n",
    "plt.show()\n",
    "plt.savefig('figure_1_neighbourhood_group_distribution.png')\n",
    "plt.clf()\n",
    "\n",
    "# Focus analysis on Manhattan and Brooklyn\n",
    "df_focus = df[df['neighbourhood_group'].isin(['Manhattan', 'Brooklyn'])]"
   ]
  },
  {
   "cell_type": "code",
   "execution_count": null,
   "id": "e1b32db5",
   "metadata": {},
   "outputs": [],
   "source": [
    "# Section 2: Log Price vs Reviews by Neighborhood\n",
    "fig, axes = plt.subplots(1, 2, figsize=(14, 6), sharey=True)\n",
    "for ax, name in zip(axes, ['Brooklyn', 'Manhattan']):\n",
    "    subset = df_focus[df_focus['neighbourhood_group'] == name]\n",
    "    sns.scatterplot(x='number_of_reviews', y='price', data=subset, ax=ax, alpha=0.3)\n",
    "    sns.regplot(x='number_of_reviews', y=np.log(subset['price']), scatter=False, ax=ax, color='blue')\n",
    "    ax.set_title(name)\n",
    "    ax.set_xlabel('Number of Accommodation Reviews')\n",
    "    ax.set_ylabel('Logarithm of Accommodation Price in USD')\n",
    "plt.suptitle('Logarithm of Airbnb Prices in USD by Review and Neighbourhood')\n",
    "plt.tight_layout(rect=[0, 0.03, 1, 0.95])\n",
    "plt.show()\n",
    "plt.savefig('figure_2_log_price_vs_reviews.png')\n",
    "plt.clf()"
   ]
  },
  {
   "cell_type": "code",
   "execution_count": null,
   "id": "809c2f5b",
   "metadata": {},
   "outputs": [],
   "source": [
    "# Section 3: Mean Price by Room Type (Manhattan)\n",
    "manhattan = df[df['neighbourhood_group'] == 'Manhattan']\n",
    "room_type_avg = manhattan.groupby('room_type')['price'].mean().reset_index()\n",
    "\n",
    "plt.figure(figsize=(8, 6))\n",
    "sns.barplot(x='room_type', y='price', data=room_type_avg, palette='pastel')\n",
    "plt.title('Mean Price of Airbnb Listings in Manhattan by Room Type')\n",
    "plt.ylabel('Mean of Airbnb Prices (USD)')\n",
    "plt.xlabel('Room Type')\n",
    "plt.tight_layout()\n",
    "plt.show()\n",
    "plt.savefig('figure_3_mean_price_by_room_type.png')\n",
    "plt.clf()"
   ]
  },
  {
   "cell_type": "code",
   "execution_count": null,
   "id": "aa394bd5",
   "metadata": {},
   "outputs": [],
   "source": [
    "# Section 4: Prices by Neighborhood (Manhattan only)\n",
    "neigh_avg = manhattan.groupby('neighbourhood').agg({'price': 'mean', 'latitude': 'mean', 'longitude': 'mean'}).reset_index()\n",
    "\n",
    "plt.figure(figsize=(10, 8))\n",
    "sns.scatterplot(data=neigh_avg, x='longitude', y='latitude', size='price', hue='neighbourhood', legend=False, sizes=(20, 400))\n",
    "plt.title('Airbnb Listing Distribution and Average Prices by Manhattan Neighborhood in 2019')\n",
    "plt.xlabel('Longitude')\n",
    "plt.ylabel('Latitude')\n",
    "plt.tight_layout()\n",
    "plt.show()\n",
    "plt.savefig('figure_4_neighborhood_price_distribution.png')\n",
    "plt.clf()"
   ]
  },
  {
   "cell_type": "code",
   "execution_count": null,
   "id": "189b4547",
   "metadata": {},
   "outputs": [],
   "source": [
    "# Section 5: Minimum Nights vs Price (Manhattan)\n",
    "manhattan_filtered = manhattan[manhattan['minimum_nights'] <= 60]\n",
    "\n",
    "plt.figure(figsize=(10, 6))\n",
    "sns.scatterplot(x='minimum_nights', y='price', data=manhattan_filtered, alpha=0.3)\n",
    "sns.regplot(x='minimum_nights', y=np.log(manhattan_filtered['price']), scatter=False, color='blue')\n",
    "plt.yscale('log')\n",
    "plt.xlabel('Minimum nights of stay')\n",
    "plt.ylabel('Logarithm of price per night in USD')\n",
    "plt.title('Relationship Between Logarithmic Price per Night and Minimum Stay Requirement for Airbnbs in Manhattan')\n",
    "plt.tight_layout()\n",
    "plt.show()\n",
    "plt.savefig('figure_5_minimum_nights_vs_price.png')\n",
    "plt.clf()\n",
    "\n",
    "print(\"Analysis complete. Figures saved to current directory.\")"
   ]
  }
 ],
 "metadata": {},
 "nbformat": 4,
 "nbformat_minor": 5
}
